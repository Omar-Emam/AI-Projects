{
 "cells": [
  {
   "cell_type": "code",
   "execution_count": 9,
   "id": "da4d5749",
   "metadata": {},
   "outputs": [],
   "source": [
    "import matplotlib.pyplot as plt\n",
    "import numpy as np\n",
    "import pandas as pd\n",
    "import seaborn as sns\n",
    "import os\n",
    "from PIL import Image"
   ]
  },
  {
   "cell_type": "code",
   "execution_count": 13,
   "id": "cd31a7e9",
   "metadata": {},
   "outputs": [
    {
     "name": "stdout",
     "output_type": "stream",
     "text": [
      "data/train\n",
      "data/test\n"
     ]
    }
   ],
   "source": [
    "folder_path=\"data/\"\n",
    "TRAIN_PATH = folder_path + 'train'\n",
    "TEST_PATH = folder_path + 'test'\n",
    "print(TRAIN_PATH)\n",
    "print(TEST_PATH)"
   ]
  },
  {
   "cell_type": "code",
   "execution_count": 14,
   "id": "69c92da8",
   "metadata": {},
   "outputs": [
    {
     "data": {
      "image/png": "[encoded data removed]",
      "text/plain": [
       "<PIL.PngImagePlugin.PngImageFile image mode=L size=48x48 at 0x1AC14ABBC10>"
      ]
     },
     "execution_count": 14,
     "metadata": {},
     "output_type": "execute_result"
    }
   ],
   "source": [
    "image_sample = Image.open(folder_path + '/train/angry/im16.png')\n",
    "image_sample"
   ]
  },
  {
   "cell_type": "code",
   "execution_count": 15,
   "id": "66458be6",
   "metadata": {},
   "outputs": [
    {
     "name": "stdout",
     "output_type": "stream",
     "text": [
      "Image shape: (48, 48)\n"
     ]
    }
   ],
   "source": [
    "# Get the shape of the image\n",
    "train_angry_img_path = folder_path + '/train/angry'\n",
    "image=plt.imread(train_angry_img_path+'/im16.png')\n",
    "print(f'Image shape: {image.shape}')"
   ]
  },
  {
   "cell_type": "code",
   "execution_count": 16,
   "id": "c47c25de",
   "metadata": {},
   "outputs": [
    {
     "name": "stdout",
     "output_type": "stream",
     "text": [
      "Image data array: [[1.         1.         0.99607843 ... 0.99607843 0.99607843 0.99607843]\n",
      " [1.         0.99607843 0.9882353  ... 0.99607843 1.         0.99607843]\n",
      " [1.         0.99607843 0.99607843 ... 0.99607843 1.         0.99607843]\n",
      " ...\n",
      " [0.15294118 0.22352941 0.11372549 ... 0.45490196 0.4117647  0.2784314 ]\n",
      " [0.13333334 0.1882353  0.09019608 ... 0.24705882 0.27058825 0.24705882]\n",
      " [0.13725491 0.16470589 0.07843138 ... 0.15294118 0.14509805 0.14901961]]\n"
     ]
    }
   ],
   "source": [
    "image_array = np.asarray(image)\n",
    "print(f'Image data array: {image_array}')"
   ]
  },
  {
   "cell_type": "code",
   "execution_count": 17,
   "id": "da3b1978",
   "metadata": {},
   "outputs": [
    {
     "name": "stdout",
     "output_type": "stream",
     "text": [
      "Image array shape: (48, 48)\n"
     ]
    }
   ],
   "source": [
    "print(f'Image array shape: {image_array.shape}')"
   ]
  },
  {
   "cell_type": "code",
   "execution_count": 18,
   "id": "1f26fe5f",
   "metadata": {},
   "outputs": [
    {
     "data": {
      "image/png": "[encoded data removed]",
      "text/plain": [
       "<Figure size 432x288 with 1 Axes>"
      ]
     },
     "metadata": {
      "needs_background": "light"
     },
     "output_type": "display_data"
    }
   ],
   "source": [
    "plt.imshow(image_array)\n",
    "plt.xlabel('Width')\n",
    "plt.ylabel('Height')\n",
    "plt.title('An Angry Face')\n",
    "plt.show()"
   ]
  },
  {
   "cell_type": "code",
   "execution_count": 20,
   "id": "daed6798",
   "metadata": {},
   "outputs": [
    {
     "data": {
      "text/plain": [
       "['angry', 'disgusted', 'fearful', 'happy', 'neutral', 'sad', 'surprised']"
      ]
     },
     "execution_count": 20,
     "metadata": {},
     "output_type": "execute_result"
    }
   ],
   "source": [
    "classes=os.listdir(TRAIN_PATH+'/')\n",
    "classes"
   ]
  },
  {
   "cell_type": "code",
   "execution_count": null,
   "id": "f61dca29",
   "metadata": {},
   "outputs": [],
   "source": []
  },
  {
   "cell_type": "code",
   "execution_count": null,
   "id": "96cb0045",
   "metadata": {},
   "outputs": [],
   "source": []
  },
  {
   "cell_type": "code",
   "execution_count": null,
   "id": "22777c78",
   "metadata": {},
   "outputs": [],
   "source": []
  },
  {
   "cell_type": "code",
   "execution_count": null,
   "id": "2934a4b0",
   "metadata": {},
   "outputs": [],
   "source": []
  },
  {
   "cell_type": "code",
   "execution_count": 1,
   "id": "672b03eb",
   "metadata": {},
   "outputs": [],
   "source": [
    "import tensorflow as tf\n",
    "from tensorflow import keras"
   ]
  },
  {
   "cell_type": "code",
   "execution_count": null,
   "id": "3e3e9625",
   "metadata": {},
   "outputs": [],
   "source": [
    "path = \"\\Emotions dataset\\train\""
   ]
  },
  {
   "cell_type": "code",
   "execution_count": null,
   "id": "8483c8e4",
   "metadata": {},
   "outputs": [],
   "source": [
    "cnn = models.Sequential([\n",
    "        layers.Conv2d(filters=64, kernel_size=(3, 3), activation=’relu’, input_shape=(32 ,32, 3)),\n",
    "        layers.MaxPooling2d((2, 2)),\n",
    "        \n",
    "        layers.Conv2d(filters=64, kernel_size=(3, 3), activation=’relu’),\n",
    "        layers.MaxPooling2d((2, 2)),\n",
    "        \n",
    "        layers.Flatten(),\n",
    "        layers.Dense(64, activation=’relu’),\n",
    "        layers.Dense(10, activation=’sigmoid’)\n",
    "        ])\n",
    "\n",
    "cnn.compile(optimizer=’adam’,\n",
    "            loss=’sparse_categorical_crossentropy’,  #For binary classification use ‘binary_cross_entropy’\n",
    "            metrics=[‘accuracy’])\n",
    "\n",
    "cnn.fit(X_train, y_train, epochs=15) #Do it 15 times"
   ]
  }
 ],
 "metadata": {
  "kernelspec": {
   "display_name": "Python 3 (ipykernel)",
   "language": "python",
   "name": "python3"
  },
  "language_info": {
   "codemirror_mode": {
    "name": "ipython",
    "version": 3
   },
   "file_extension": ".py",
   "mimetype": "text/x-python",
   "name": "python",
   "nbconvert_exporter": "python",
   "pygments_lexer": "ipython3",
   "version": "3.9.7"
  }
 },
 "nbformat": 4,
 "nbformat_minor": 5
}
